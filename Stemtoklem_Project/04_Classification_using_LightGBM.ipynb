{
  "nbformat": 4,
  "nbformat_minor": 0,
  "metadata": {
    "colab": {
      "provenance": [],
      "gpuType": "T4"
    },
    "kernelspec": {
      "name": "python3",
      "display_name": "Python 3"
    },
    "language_info": {
      "name": "python"
    },
    "accelerator": "GPU"
  },
  "cells": [
    {
      "cell_type": "markdown",
      "source": [
        "# Predictions using LightGBM"
      ],
      "metadata": {
        "id": "WJIUNw0ftbrb"
      }
    },
    {
      "cell_type": "markdown",
      "source": [
        "# Data Loading and Preprocessing"
      ],
      "metadata": {
        "id": "Q4ELVhfKyBlF"
      }
    },
    {
      "cell_type": "code",
      "source": [
        "from lightgbm import LGBMClassifier\n",
        "\n",
        "data = pd.read_csv('/content/data_with_predictions.csv')\n",
        "\n",
        "# Check for missing values and clean data\n",
        "print(\"Missing values:\\n\", data.isnull().sum())\n",
        "data.dropna(inplace=True)"
      ],
      "metadata": {
        "colab": {
          "base_uri": "https://localhost:8080/"
        },
        "id": "q7fmeidyxb7y",
        "outputId": "0011eba9-5344-4936-92c6-ed570baf6452"
      },
      "execution_count": null,
      "outputs": [
        {
          "output_type": "stream",
          "name": "stdout",
          "text": [
            "Missing values:\n",
            " date                 0\n",
            "Open                 0\n",
            "High                 0\n",
            "Low                  0\n",
            "Close                0\n",
            "Shares Traded        0\n",
            "Turnover (â¹ Cr)    0\n",
            "news                 0\n",
            "Sentiment            0\n",
            "dtype: int64\n"
          ]
        }
      ]
    },
    {
      "cell_type": "markdown",
      "source": [
        "# Feature Selection and Target Definition"
      ],
      "metadata": {
        "id": "v-uWB8fiymAJ"
      }
    },
    {
      "cell_type": "markdown",
      "source": [
        "1. The features used for the prediction are:\n",
        "* Sentiment (sentiment prediction from earlier tasks).\n",
        "* Stock trading indicators like Shares Traded, Turnover, Open, High, and Low.\n",
        "2. The target variable (Target) is defined as a binary classification problem:\n",
        "* 1: Closing price increases the next day (Close.shift(-1) > Close).\n",
        "* 0: Closing price decreases or remains the same."
      ],
      "metadata": {
        "id": "bKs2flpwzQpl"
      }
    },
    {
      "cell_type": "code",
      "source": [
        "features = ['Sentiment', 'Shares Traded ', 'Turnover (â¹ Cr)', 'Open ', 'High ', 'Low ']\n",
        "target = 'Close '\n",
        "\n",
        "data['Target'] = np.where(data['Close '].shift(-1) > data['Close '], 1, 0)\n",
        "\n",
        "X = data[features]\n",
        "y = data['Target']\n",
        "\n",
        "# Split data into training and testing sets\n",
        "X_train, X_test, y_train, y_test = train_test_split(X, y, test_size=0.2, random_state=42, stratify=y)\n"
      ],
      "metadata": {
        "id": "3UjGTrw5yf-l"
      },
      "execution_count": null,
      "outputs": []
    },
    {
      "cell_type": "markdown",
      "source": [
        "# LightGBM Model Initialization and Training"
      ],
      "metadata": {
        "id": "ElDIkn4YzoA0"
      }
    },
    {
      "cell_type": "code",
      "source": [
        "# Initialize the LightGBM model\n",
        "model = LGBMClassifier(is_unbalance=True, random_state=42, n_estimators=200, learning_rate=0.1)\n",
        "\n",
        "# Train the model\n",
        "model.fit(X_train, y_train)\n",
        "\n",
        "# Make predictions\n",
        "y_pred = model.predict(X_test)\n",
        "y_proba = model.predict_proba(X_test)[:, 1]\n"
      ],
      "metadata": {
        "colab": {
          "base_uri": "https://localhost:8080/"
        },
        "id": "Zsu1q1q4xgQy",
        "outputId": "0f84892f-148f-4f87-d472-0fd0e72fd6b8"
      },
      "execution_count": null,
      "outputs": [
        {
          "output_type": "stream",
          "name": "stdout",
          "text": [
            "[LightGBM] [Warning] Found whitespace in feature_names, replace with underlines\n",
            "[LightGBM] [Info] Number of positive: 242, number of negative: 16102\n",
            "[LightGBM] [Info] Auto-choosing col-wise multi-threading, the overhead of testing was 0.001267 seconds.\n",
            "You can set `force_col_wise=true` to remove the overhead.\n",
            "[LightGBM] [Info] Total Bins 1270\n",
            "[LightGBM] [Info] Number of data points in the train set: 16344, number of used features: 6\n",
            "[LightGBM] [Info] [binary:BoostFromScore]: pavg=0.014807 -> initscore=-4.197761\n",
            "[LightGBM] [Info] Start training from score -4.197761\n"
          ]
        }
      ]
    },
    {
      "cell_type": "markdown",
      "source": [
        "# Model Evaluation"
      ],
      "metadata": {
        "id": "WgCBBOnHzw_2"
      }
    },
    {
      "cell_type": "code",
      "source": [
        "print(\"Confusion Matrix:\")\n",
        "conf_matrix = confusion_matrix(y_test, y_pred)\n",
        "print(conf_matrix)\n"
      ],
      "metadata": {
        "colab": {
          "base_uri": "https://localhost:8080/"
        },
        "id": "sqQD4JOzxk-3",
        "outputId": "84359045-8884-40a5-d0b6-9aebbe3adc2b"
      },
      "execution_count": null,
      "outputs": [
        {
          "output_type": "stream",
          "name": "stdout",
          "text": [
            "Confusion Matrix:\n",
            "[[2956 1070]\n",
            " [  60    0]]\n"
          ]
        }
      ]
    },
    {
      "cell_type": "code",
      "source": [
        "print(\"\\nClassification Report:\")\n",
        "print(classification_report(y_test, y_pred))\n",
        "\n",
        "accuracy = accuracy_score(y_test, y_pred)\n",
        "print(f\"\\nAccuracy: {accuracy:.2f}\")\n"
      ],
      "metadata": {
        "colab": {
          "base_uri": "https://localhost:8080/"
        },
        "id": "nqDP7SP5xnt6",
        "outputId": "9aae2a83-d216-4f96-d712-eadbed2c08b8"
      },
      "execution_count": null,
      "outputs": [
        {
          "output_type": "stream",
          "name": "stdout",
          "text": [
            "\n",
            "Classification Report:\n",
            "              precision    recall  f1-score   support\n",
            "\n",
            "           0       0.98      0.73      0.84      4026\n",
            "           1       0.00      0.00      0.00        60\n",
            "\n",
            "    accuracy                           0.72      4086\n",
            "   macro avg       0.49      0.37      0.42      4086\n",
            "weighted avg       0.97      0.72      0.83      4086\n",
            "\n",
            "\n",
            "Accuracy: 0.72\n"
          ]
        }
      ]
    },
    {
      "cell_type": "markdown",
      "source": [
        "# Visualize Confusion Matrix"
      ],
      "metadata": {
        "id": "BQZ4-hIIz3iv"
      }
    },
    {
      "cell_type": "code",
      "source": [
        "plt.figure(figsize=(8, 6))\n",
        "sns.heatmap(conf_matrix, annot=True, fmt='d', cmap='Blues', xticklabels=['Decrease', 'Increase'], yticklabels=['Decrease', 'Increase'])\n",
        "plt.xlabel('Predicted')\n",
        "plt.ylabel('Actual')\n",
        "plt.title('Confusion Matrix')\n",
        "plt.show()"
      ],
      "metadata": {
        "colab": {
          "base_uri": "https://localhost:8080/",
          "height": 564
        },
        "id": "PZRTYHMPxqX2",
        "outputId": "7a3f79c2-7461-4d86-d498-ff984cfb3cf5"
      },
      "execution_count": null,
      "outputs": [
        {
          "output_type": "display_data",
          "data": {
            "text/plain": [
              "<Figure size 800x600 with 2 Axes>"
            ],
            "image/png": "[encoded data removed]"
          },
          "metadata": {}
        }
      ]
    },
    {
      "cell_type": "markdown",
      "source": [
        "# Feature Importance Visualization"
      ],
      "metadata": {
        "id": "HfxjSdDiz8DZ"
      }
    },
    {
      "cell_type": "code",
      "source": [
        "feature_importances = model.feature_importances_\n",
        "sorted_indices = np.argsort(feature_importances)[::-1]\n",
        "plt.figure(figsize=(10, 6))\n",
        "sns.barplot(x=feature_importances[sorted_indices], y=np.array(features)[sorted_indices], palette='viridis')\n",
        "plt.title('Feature Importance')\n",
        "plt.xlabel('Importance')\n",
        "plt.ylabel('Feature')\n",
        "plt.show()"
      ],
      "metadata": {
        "colab": {
          "base_uri": "https://localhost:8080/",
          "height": 686
        },
        "id": "b2apDKLaxvbr",
        "outputId": "2f4f860d-df58-463e-c67b-dafbe3bd3ac3"
      },
      "execution_count": null,
      "outputs": [
        {
          "output_type": "stream",
          "name": "stderr",
          "text": [
            "<ipython-input-21-16909cab22b1>:4: FutureWarning: \n",
            "\n",
            "Passing `palette` without assigning `hue` is deprecated and will be removed in v0.14.0. Assign the `y` variable to `hue` and set `legend=False` for the same effect.\n",
            "\n",
            "  sns.barplot(x=feature_importances[sorted_indices], y=np.array(features)[sorted_indices], palette='viridis')\n",
            "/usr/local/lib/python3.10/dist-packages/IPython/core/pylabtools.py:151: UserWarning: Glyph 130 (\\x82) missing from current font.\n",
            "  fig.canvas.print_figure(bytes_io, **kw)\n"
          ]
        },
        {
          "output_type": "display_data",
          "data": {
            "text/plain": [
              "<Figure size 1000x600 with 1 Axes>"
            ],
            "image/png": "[encoded data removed]"
          },
          "metadata": {}
        }
      ]
    }
  ]
}